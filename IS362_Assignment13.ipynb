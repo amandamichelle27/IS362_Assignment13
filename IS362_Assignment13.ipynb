{
 "cells": [
  {
   "cell_type": "code",
   "execution_count": 34,
   "metadata": {},
   "outputs": [
    {
     "name": "stdout",
     "output_type": "stream",
     "text": [
      "      Class  Odor  Habitat\n",
      "0         1     6        5\n",
      "1         0     0        1\n",
      "2         0     3        3\n",
      "3         1     6        5\n",
      "4         0     5        1\n",
      "5         0     0        1\n",
      "6         0     0        3\n",
      "7         0     3        3\n",
      "8         1     6        1\n",
      "9         0     0        3\n",
      "10        0     3        1\n",
      "11        0     0        3\n",
      "12        0     0        1\n",
      "13        1     6        5\n",
      "14        0     5        1\n",
      "15        0     5        5\n",
      "16        0     5        1\n",
      "17        1     6        1\n",
      "18        1     6        5\n",
      "19        1     6        5\n",
      "20        0     0        3\n",
      "21        1     6        1\n",
      "22        0     3        3\n",
      "23        0     0        3\n",
      "24        0     3        3\n",
      "25        1     6        1\n",
      "26        0     0        3\n",
      "27        0     3        3\n",
      "28        0     5        5\n",
      "29        0     0        0\n",
      "...     ...   ...      ...\n",
      "8094      0     5        1\n",
      "8095      1     4        0\n",
      "8096      0     5        1\n",
      "8097      1     7        2\n",
      "8098      1     8        0\n",
      "8099      0     5        1\n",
      "8100      0     5        2\n",
      "8101      1     7        4\n",
      "8102      0     5        2\n",
      "8103      0     5        2\n",
      "8104      0     5        2\n",
      "8105      0     5        2\n",
      "8106      0     5        2\n",
      "8107      0     5        2\n",
      "8108      1     8        2\n",
      "8109      0     5        1\n",
      "8110      0     5        2\n",
      "8111      0     5        1\n",
      "8112      0     5        2\n",
      "8113      1     8        0\n",
      "8114      1     4        0\n",
      "8115      0     5        2\n",
      "8116      1     7        2\n",
      "8117      1     8        0\n",
      "8118      1     2        0\n",
      "8119      0     5        2\n",
      "8120      0     5        2\n",
      "8121      0     5        2\n",
      "8122      1     8        2\n",
      "8123      0     5        2\n",
      "\n",
      "[8124 rows x 3 columns]\n"
     ]
    }
   ],
   "source": [
    "import pandas as pd\n",
    "import matplotlib.pyplot as plt\n",
    "\n",
    "df = pd.read_csv(\"https://archive.ics.uci.edu/ml/machine-learning-databases/mushroom/agaricus-lepiota.data\", \n",
    "                 header=None, names=['Class', 'Odor', 'Habitat'], usecols=[0, 5, 22], dtype=\"category\")\n",
    "\n",
    "df = df.apply(lambda column: column.cat.codes)\n",
    "print(df)"
   ]
  },
  {
   "cell_type": "markdown",
   "metadata": {},
   "source": [
    "We have now converted all letter codes to number codes. \n",
    "For Class: edible=e to 0,\n",
    "           poisonous=p to 1\n",
    "           \n",
    "For Odor: almond=a to 0,\n",
    "          anise=l to 1,\n",
    "          creosote=c to 2,\n",
    "          fishy=y to 3,\n",
    "          foul=f to 4,\n",
    "          musty=m to 5,\n",
    "          none=n to 6,\n",
    "          pungent=p to 7,\n",
    "          spicy=s to 8\n",
    "          \n",
    "For Habitat: grasses=g to 0 \n",
    "             leaves=l to 1,\n",
    "             meadows=m to 2,\n",
    "             paths=p to 3,\n",
    "             urban=u to 4,\n",
    "             waste=w to 5,\n",
    "             woods=d to 6"
   ]
  },
  {
   "cell_type": "code",
   "execution_count": 30,
   "metadata": {},
   "outputs": [
    {
     "data": {
      "image/png": "[encoded data removed]",
      "text/plain": [
       "<matplotlib.figure.Figure at 0x1925dfbe710>"
      ]
     },
     "metadata": {},
     "output_type": "display_data"
    }
   ],
   "source": [
    "plt.scatter(df['Odor'], df['Class'])\n",
    "plt.show()"
   ]
  },
  {
   "cell_type": "markdown",
   "metadata": {},
   "source": [
    "From this graph we can see that only odor 5 (musty) has both poisonous and non-poisonous mushrooms, and odors 1,2,4,6,7,8 are strictly found in poisonous varieties."
   ]
  },
  {
   "cell_type": "code",
   "execution_count": 31,
   "metadata": {},
   "outputs": [
    {
     "data": {
      "image/png": "[encoded data removed]",
      "text/plain": [
       "<matplotlib.figure.Figure at 0x1925f617b00>"
      ]
     },
     "metadata": {},
     "output_type": "display_data"
    }
   ],
   "source": [
    "plt.scatter(df['Habitat'], df['Class'])\n",
    "plt.show()"
   ]
  },
  {
   "cell_type": "markdown",
   "metadata": {},
   "source": [
    "By looking at this table, you make the definite assumption that any mushroom found in the last habitat(woods) is poisonous. "
   ]
  }
 ],
 "metadata": {
  "kernelspec": {
   "display_name": "Python 3",
   "language": "python",
   "name": "python3"
  },
  "language_info": {
   "codemirror_mode": {
    "name": "ipython",
    "version": 3
   },
   "file_extension": ".py",
   "mimetype": "text/x-python",
   "name": "python",
   "nbconvert_exporter": "python",
   "pygments_lexer": "ipython3",
   "version": "3.6.3"
  }
 },
 "nbformat": 4,
 "nbformat_minor": 2
}
